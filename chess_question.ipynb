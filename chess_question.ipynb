{
 "cells": [
  {
   "cell_type": "markdown",
   "metadata": {},
   "source": [
    "# Chess Game"
   ]
  },
  {
   "cell_type": "markdown",
   "metadata": {},
   "source": [
    "For easier understanding, this is the chess board with chess notations:<br>\n",
    "a8, b8, c8, d8, e8, f8, g8, h8 <br>\n",
    "a7, b7, <...> and etc. <br>\n",
    "<img src=\"Chess.PNG\" width=\"300\" height=\"300\">\n",
    "\n",
    "As game starts with a white figure, the chess board top is line 8 and bottom - line 1.\n"
   ]
  },
  {
   "cell_type": "markdown",
   "metadata": {},
   "source": [
    "First part of the code is defining what variables will be needed, so mainly my code will be divided into 3 parts: <br>\n",
    "1. Describing the white figure and it's coordinates\n",
    "2. Describing black figures coordinates\n",
    "3. Describing the output (all possible captures)"
   ]
  },
  {
   "cell_type": "code",
   "execution_count": null,
   "metadata": {},
   "outputs": [],
   "source": [
    "def main():\n",
    "    white_figure, white_position = get_white_figure()\n",
    "    black_figures = get_black_figures(white_position)  # Pass white_figure to the function  \n",
    "    captures = white_captures_black(white_figure, white_position, black_figures)\n",
    "\n",
    "    if captures:\n",
    "        print(f\"White {white_figure} can capture black figures in these coordinates: {captures}\")\n",
    "    else:\n",
    "        print(f\"No black pieces can be captured by white {white_figure} :( \")"
   ]
  },
  {
   "cell_type": "markdown",
   "metadata": {},
   "source": [
    "1. White input: <br>\n",
    "    * Ask for 1 white input (from 2 figures of my choice, e.g.: knight a5) <br>\n",
    "    * Selected white figures - rook and king:\n",
    "        - Rook: moves in a line, horizontally or vertically\n",
    "        - King: moves one square in any direction (horizontally, vertically, diagonally)<br>\n",
    "\n",
    "Possible limitations: user input is not in right format (e.g. other figures than rook or king, coordinates outside the 8x8 bounds) "
   ]
  },
  {
   "cell_type": "code",
   "execution_count": null,
   "metadata": {},
   "outputs": [],
   "source": [
    "def get_white_figure():\n",
    "    \"\"\"asking for white figure (rook or king) and its coordinates\"\"\"\n",
    "\n",
    "    while True:\n",
    "        white_input = input(\"Choose white figure (rook or king): \")\n",
    "        if white_input not in [\"rook\", \"king\"]:\n",
    "            print(\"Invalid figure. Please choose rook or king.\")\n",
    "        else:\n",
    "            white_position = input(f\"Enter position for the white {white_input} (e.g. a1, b8): \")\n",
    "            x, y = convert_position_to_coordinates(white_position) #converting chess notation to coordinates\n",
    "            if x is not None and y is not None:\n",
    "                print(f\"White {white_input} was successfully added to {white_position}\")\n",
    "                return white_input, (x, y)\n",
    "            else:\n",
    "                print(\"Invalid position. Please enter in valid format (e.g. a1, b8): \")"
   ]
  },
  {
   "cell_type": "markdown",
   "metadata": {},
   "source": [
    "2. Black input: <br>\n",
    "    * Ask user to enter black pieces, 1 to 16 figures. <br>\n",
    "    * Once at least one black piece has been added, the user can write “done”.<br>\n",
    "    * After adding each piece, there should be either a confirmation that it was added successfully, or an error message explaining what the issue is. <br>\n",
    "\n",
    "Possible limitations: <br>\n",
    "- Input is not in the right format\n",
    "- Black figure added at the same coordinates as white <br>\n",
    "- Black figure added at the same coordinates as other black <br>\n",
    "- \"Done\" written too early <br>\n",
    "- Added more than 16 figures"
   ]
  },
  {
   "cell_type": "code",
   "execution_count": null,
   "metadata": {},
   "outputs": [],
   "source": [
    "def get_black_figures(white_position):\n",
    "    \"\"\"Creates a list of already taken and unoccupied coordinates\"\"\"\n",
    "\n",
    "    black_figures = [] \n",
    "    all_coordinates = {(x, y) for x in range(8) for y in range(8)}  # All possible coordinates in range 8x8\n",
    "    all_coordinates.discard(white_position)  # eliminating white figure's position\n",
    "\n",
    "    while True:\n",
    "        black_position = input(\"Enter coordinates for 1-16 black figures (or 'done' to finish): \")\n",
    "        if black_position == \"done\":\n",
    "            if len(black_figures) >= 1:\n",
    "                black_positions_notation = [convert_coordinates_to_position(coords) for coords in black_figures] # Convert black figures' coordinates to chess notation\n",
    "                print(f\"You listed black figures at: {black_positions_notation}\")\n",
    "                return black_figures\n",
    "            else:\n",
    "                print(\"You must add at least one black figure\")           \n",
    "        else:\n",
    "            x, y = convert_position_to_coordinates(black_position)\n",
    "            if x is not None and y is not None:\n",
    "                if (x, y) in black_figures:\n",
    "                    print(\"Position already taken by another black figure.\")\n",
    "                elif (x, y) not in all_coordinates:\n",
    "                    print(\"Position is occupied by the white figure.\")\n",
    "                else:\n",
    "                    black_figures.append((x, y))\n",
    "                    all_coordinates.discard((x, y)) \n",
    "                    print(f\"Black figure added at position {black_position}\")\n",
    "\n",
    "                    if len(black_figures) == 16: # Check if we have reached 16 black figures\n",
    "                        print(\"16 black figures were added.\")\n",
    "                        return black_figures  # Exit after adding 16 figures\n",
    "            else:\n",
    "                print(\"Invalid position. Please enter in valid format (e.g. a1, b8): \")\n",
    "\n"
   ]
  },
  {
   "cell_type": "markdown",
   "metadata": {},
   "source": [
    "3. After the white and the black pieces are added, the program should print out the black pieces, if any, that the white piece can take. <br>\n",
    "\n",
    "    To do so, I need to: <br>\n",
    "    * Describe and transform the coordinates of the chess board\n",
    "    * Describe how white figures (rook and king) can move\n",
    "    * Describe what black figures can be captured by white\n",
    "\n",
    "Possible limitations: <br>\n",
    "- White figure can capture two figures in the same line (for rook)\n",
    "  \n"
   ]
  },
  {
   "cell_type": "code",
   "execution_count": null,
   "metadata": {},
   "outputs": [],
   "source": [
    "def get_initial_black_positions(black_figures):\n",
    "    '''Convert black figures' coordinates to chess notation'''\n",
    "\n",
    "    return [convert_coordinates_to_position(coords) for coords in black_figures]\n",
    "\n",
    "def convert_position_to_coordinates(position):\n",
    "    '''Convert chess notation to coordinates'''\n",
    "\n",
    "    if len(position) != 2 or position[0] not in \"abcdefgh\" or not position[1].isdigit(): \n",
    "        return None, None\n",
    "    x = ord(position[0]) - ord('a') #Converts the letter ('a' to 'h') into a number (0 to 7). For example, 'a' becomes 0, 'b' becomes 1, and so on.\n",
    "    y = 8 - int(position[1])\n",
    "    if 0 <= x < 8 and 0 <= y < 8:\n",
    "        return x, y\n",
    "    return None, None\n",
    "'''X coordinates: ord(character) function returns the Unicode (ASCII) code of the character, for example: ord('a') returns 97, so for \"a\", ord('a') - ord('a') = 97 - 97 = 0\n",
    "   Y coordinates: as starting with white figure, the chess board top is line 8 and bottom - line 1. so in python we have to convert the numbers, for example:\n",
    "    if the figure is placed at a1 (whis is at the bottom of the board), python coordinates should be (0;7)'''\n",
    "\n",
    "def white_captures_black(white_figure, white_position, black_figures):\n",
    "    '''Function determines if the white figure (rook or king) can capture any black figures based on its position.'''\n",
    "\n",
    "    captures = []\n",
    "    x, y = white_position\n",
    "\n",
    "    if white_figure == \"rook\":\n",
    "        captures += check_direction(black_figures, x, y, 1, 0)  # Right\n",
    "        captures += check_direction(black_figures, x, y, -1, 0) # Left\n",
    "        captures += check_direction(black_figures, x, y, 0, 1)  # Up\n",
    "        captures += check_direction(black_figures, x, y, 0, -1) # Down\n",
    "    elif white_figure == \"king\":\n",
    "        directions = [(1, 0), (-1, 0), (0, 1), (0, -1), (1, 1), (-1, -1), (1, -1), (-1, 1)]\n",
    "        for dx, dy in directions:\n",
    "            nx, ny = x + dx, y + dy\n",
    "            if (nx, ny) in black_figures:\n",
    "                captures.append(convert_coordinates_to_position((nx, ny)))\n",
    "    return captures\n",
    "\n",
    "def check_direction(black_figures, x, y, dx, dy):\n",
    "    \"\"\"_summary_\n",
    "\n",
    "    Args:\n",
    "        black_figures (_type_): _description_\n",
    "        x (_type_): _description_\n",
    "        y (_type_): _description_\n",
    "        dx (_type_): _description_\n",
    "        dy (_type_): _description_\n",
    "\n",
    "    Returns:\n",
    "        _type_: _description_\n",
    "    \"\"\"\n",
    "    '''Function that helps the rook capture black figures by checking each direction until it finds a black figure or goes out of bounds'''\n",
    "    nx, ny = x + dx, y + dy \n",
    "    while 0 <= nx < 8 and 0 <= ny < 8: #checking if the new position is within bounds of the board\n",
    "        if (nx, ny) in black_figures: \n",
    "            return [convert_coordinates_to_position((nx, ny))] \n",
    "        nx += dx #The movement continues in the same direction until ir encounters black figure or reaches the edge of board\n",
    "        ny += dy\n",
    "    return []\n",
    "\n",
    "def convert_coordinates_to_position(coords):\n",
    "    '''Formula converts coordinates to chess notation'''\n",
    "    x, y = coords\n",
    "    return f\"{chr(x + ord('a'))}{8 - y}\"\n",
    "\n",
    "main()"
   ]
  }
 ],
 "metadata": {
  "kernelspec": {
   "display_name": "sprint1",
   "language": "python",
   "name": "python3"
  },
  "language_info": {
   "codemirror_mode": {
    "name": "ipython",
    "version": 3
   },
   "file_extension": ".py",
   "mimetype": "text/x-python",
   "name": "python",
   "nbconvert_exporter": "python",
   "pygments_lexer": "ipython3",
   "version": "3.12.4"
  }
 },
 "nbformat": 4,
 "nbformat_minor": 2
}

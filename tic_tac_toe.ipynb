{
 "cells": [
  {
   "cell_type": "markdown",
   "metadata": {},
   "source": [
    "# Tic Tac Toe game"
   ]
  },
  {
   "cell_type": "markdown",
   "metadata": {},
   "source": [
    "constructing and printing the tic tac toe board"
   ]
  },
  {
   "cell_type": "code",
   "execution_count": null,
   "metadata": {},
   "outputs": [],
   "source": [
    "import random\n",
    "board = [\"-\", \"-\", \"-\",\n",
    "         \"-\", \"-\", \"-\",\n",
    "         \"-\", \"-\", \"-\"]\n",
    "player = \"X\"\n",
    "winner = None\n",
    "game_running = True\n",
    "\n",
    "def print_board(board):\n",
    "    print(board[0] + \" | \" + board [1] + \" | \" + board[2])\n",
    "    print(board[3] + \" | \" + board [4] + \" | \" + board[5])\n",
    "    print(board[6] + \" | \" + board [7] + \" | \" + board[8])\n",
    "print_board(board)"
   ]
  },
  {
   "cell_type": "markdown",
   "metadata": {},
   "source": [
    "player starts the game, so we need the input. Input returns a string value, so we have to convert it to a number"
   ]
  },
  {
   "cell_type": "code",
   "execution_count": null,
   "metadata": {},
   "outputs": [],
   "source": [
    "def player_input(boad):\n",
    "    inp = int(input(\"Enter a number 1-9: \"))\n",
    "    if inp >= 1 and inp <=9 and board[inp-1] == \"-\":\n",
    "        board[inp-1] = player\n",
    "    else:\n",
    "        print(\"Ooops! This spot is already taken, choose another one\")"
   ]
  },
  {
   "cell_type": "markdown",
   "metadata": {},
   "source": [
    "checking whether it's a win or should we tie (horizontal, vertical, diagonal values or a tie)"
   ]
  },
  {
   "cell_type": "code",
   "execution_count": null,
   "metadata": {},
   "outputs": [],
   "source": [
    "def check_horizontal(board):\n",
    "    global winner\n",
    "    if board[0] == board[1] == board[2] and board[0] != \"-\":\n",
    "        winner = board[0]\n",
    "        return True\n",
    "    elif board[3] == board[4] == board[5] and board[3] != \"-\":\n",
    "        winner = board[3]\n",
    "        return True\n",
    "    elif board[6] == board[7] == board[8] and board[6] != \"-\":\n",
    "        winner = board[6]\n",
    "        return True"
   ]
  },
  {
   "cell_type": "code",
   "execution_count": null,
   "metadata": {},
   "outputs": [],
   "source": [
    "def check_vertical(board):\n",
    "    global winner\n",
    "    if board[0] == board[3] == board[6] and board[0] != \"-\":\n",
    "        winner = board[0]\n",
    "        return True\n",
    "    elif board[1] == board[4] == board[7] and board[1] != \"-\":\n",
    "        winner = board[1]\n",
    "        return True\n",
    "    elif board[2] == board[5] == board[8] and board[2] != \"-\":\n",
    "        winner = board[2]\n",
    "        return True"
   ]
  },
  {
   "cell_type": "code",
   "execution_count": null,
   "metadata": {},
   "outputs": [],
   "source": [
    "def check_diagonal(board):\n",
    "    global winner\n",
    "    if board[0] == board[4] == board[8] and board[0] != \"-\":\n",
    "        winner = board[0]\n",
    "        return True\n",
    "    elif board[2] == board[4] == board[6] and board[2] != \"-\":\n",
    "        winner = board[2]\n",
    "        return True"
   ]
  },
  {
   "cell_type": "code",
   "execution_count": null,
   "metadata": {},
   "outputs": [],
   "source": [
    "def check_win():\n",
    "    if check_diagonal(board) or check_horizontal(board) or check_vertical(board):\n",
    "        print(f\"The winner is {winner}\")"
   ]
  },
  {
   "cell_type": "code",
   "execution_count": null,
   "metadata": {},
   "outputs": [],
   "source": [
    "def check_tie(board):\n",
    "    global game_running\n",
    "    if \"-\" not in board:\n",
    "        print_board(board)\n",
    "        print(\"It's a tie!\")\n",
    "        game_running = False"
   ]
  },
  {
   "cell_type": "markdown",
   "metadata": {},
   "source": [
    "swithching the player (to computer)"
   ]
  },
  {
   "cell_type": "code",
   "execution_count": null,
   "metadata": {},
   "outputs": [],
   "source": [
    "def switch_player():\n",
    "    global player\n",
    "    if player == \"X\":\n",
    "        player = \"O\"\n",
    "    else:\n",
    "        player = \"X\""
   ]
  },
  {
   "cell_type": "code",
   "execution_count": null,
   "metadata": {},
   "outputs": [],
   "source": [
    "def computer(board):\n",
    "    while player == \"O\":\n",
    "        position = random.randint(0, 8)\n",
    "        if board[position] == \"-\":\n",
    "            board[position] = \"O\"\n",
    "            switch_player()"
   ]
  },
  {
   "cell_type": "markdown",
   "metadata": {},
   "source": [
    "checking whether it's a win or should we tie again"
   ]
  },
  {
   "cell_type": "code",
   "execution_count": null,
   "metadata": {},
   "outputs": [],
   "source": [
    "while game_running:\n",
    "    print_board(board)\n",
    "    player_input(board)\n",
    "    check_win()\n",
    "    check_tie(board)\n",
    "    switch_player()\n",
    "    computer(board)\n",
    "    check_win()\n",
    "    check_tie(board)"
   ]
  },
  {
   "cell_type": "markdown",
   "metadata": {},
   "source": [
    "There's an error: ValueError: invalid literal for int() with base 10: ''\n",
    "This error occurs when trying to convert an empty string \"\" to an integer"
   ]
  }
 ],
 "metadata": {
  "kernelspec": {
   "display_name": "sprint1",
   "language": "python",
   "name": "python3"
  },
  "language_info": {
   "codemirror_mode": {
    "name": "ipython",
    "version": 3
   },
   "file_extension": ".py",
   "mimetype": "text/x-python",
   "name": "python",
   "nbconvert_exporter": "python",
   "pygments_lexer": "ipython3",
   "version": "3.12.4"
  }
 },
 "nbformat": 4,
 "nbformat_minor": 2
}
